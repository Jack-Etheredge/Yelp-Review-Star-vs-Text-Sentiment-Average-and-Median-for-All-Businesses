{
 "cells": [
  {
   "cell_type": "markdown",
   "metadata": {},
   "source": [
    "Yelp review text sentiment and star rating analysis\n",
    "===\n",
    "\n",
    "I'm going to look at data from Yelp to see how correlated text review sentiment and star rating are. I was inspired to look at text sentiment vs star rating after reading a reddit post about a hotel with awful service that threatened customers if they didn't give the hotel a good review. Customers retaliated by giving high star ratings, but written reviews that were quite negative. I wondered whether I could find instances like this in the Yelp reviews.\n",
    "\n",
    "Unfortunately, Yelp has a very restrictive API policy. Yelp has, however, provided review data for download here: https://www.yelp.com/dataset/challenge.\n",
    "\n",
    "This data is in the form of .json, which is frequently what you'd pull from an API."
   ]
  },
  {
   "cell_type": "markdown",
   "metadata": {},
   "source": [
    "First I'll import the modules I need:"
   ]
  },
  {
   "cell_type": "code",
   "execution_count": 1,
   "metadata": {
    "collapsed": true
   },
   "outputs": [],
   "source": [
    "import json\n",
    "import numpy as np\n",
    "import matplotlib.pyplot as plt\n",
    "from textblob import TextBlob\n",
    "from scipy.stats.stats import pearsonr"
   ]
  },
  {
   "cell_type": "markdown",
   "metadata": {},
   "source": [
    "Read in the data .json file:"
   ]
  },
  {
   "cell_type": "code",
   "execution_count": 3,
   "metadata": {
    "collapsed": false
   },
   "outputs": [],
   "source": [
    "reviewData = open(\"yelp_academic_dataset_review.json\", \"r\").readlines()"
   ]
  },
  {
   "cell_type": "markdown",
   "metadata": {},
   "source": [
    "Make a dictionary and read in the first 500,000 reviews:"
   ]
  },
  {
   "cell_type": "code",
   "execution_count": 4,
   "metadata": {
    "collapsed": false,
    "scrolled": false
   },
   "outputs": [],
   "source": [
    "businessInfo = {}    # Make an empty dictionary\n",
    "for d in reviewData[0:500000]:\n",
    "  parsed = json.loads(d)\n",
    "  business = parsed[\"business_id\"]\n",
    "  score = parsed[\"stars\"]\n",
    "  text = parsed[\"text\"]\n",
    "  tb = TextBlob(text)\n",
    "  polarity = tb.sentiment.polarity\n",
    "  businessData = businessInfo.get(business, [])  # Get the list of scores and polarities out of businessInfo. If there's no entry for that business yet, get an empty list.\n",
    "  businessData.append((score, polarity,))         # Append a tuple to businessData. businessData is always a list of tuples where the first value is the score and the second value is the polarity.\n",
    "  businessInfo[business] = businessData"
   ]
  },
  {
   "cell_type": "markdown",
   "metadata": {},
   "source": [
    "Let's print a small subset of the dictionary to see what we've got:"
   ]
  },
  {
   "cell_type": "code",
   "execution_count": 5,
   "metadata": {
    "collapsed": false
   },
   "outputs": [
    {
     "data": {
      "text/plain": [
       "{'2aFiy99vNLklCx3T_tGS9A': [(5, 0.24333333333333337),\n",
       "  (5, 0.022857142857142878),\n",
       "  (5, 0.3333333333333333)],\n",
       " '2aSq50bdUoc1nOAJzK4eiw': [(5, 0.12341269841269838),\n",
       "  (3, 0.16527777777777777),\n",
       "  (3, 0.04317226890756303),\n",
       "  (4, 0.5),\n",
       "  (2, -0.055388471177944876)],\n",
       " '2aVpQXXlA9GdGZOwMmycKQ': [(1, -0.3666666666666667),\n",
       "  (1, -0.19166666666666665),\n",
       "  (1, 0.02777777777777778)],\n",
       " '2affqR8mmNPuW1HdnFUAng': [(5, 0.6275000000000002),\n",
       "  (5, 0.15273366784730422),\n",
       "  (3, 0.10078125),\n",
       "  (2, 0.09772727272727272),\n",
       "  (3, 0.09675438596491229)]}"
      ]
     },
     "execution_count": 5,
     "metadata": {},
     "output_type": "execute_result"
    }
   ],
   "source": [
    "# this would print the whole dictionary, which is not really what we want here.\n",
    "# for key, value in businessInfo.items():\n",
    "#    print (key, value)\n",
    "\n",
    "def get_range(dictionary, begin, end):\n",
    "  return {k: v for k, v in dictionary.items() if begin <= k <= end}\n",
    "\n",
    "get_range(businessInfo,'2aFiy99vNLklCx3T_tGS9A','2affqR8mmNPuW1HdnFUAng') # this shows us a subset of 4 keys (businesses) in the dictionary"
   ]
  },
  {
   "cell_type": "markdown",
   "metadata": {},
   "source": [
    "Well, that output isn't very pretty, but we can see that each business ID is now associated with a list of paired star ratings and text sentiments. I intentionally chose some businesses with few reviews so that the output wasn't gigantic. Most of them have quite a few reviews."
   ]
  },
  {
   "cell_type": "markdown",
   "metadata": {},
   "source": [
    "Iterate over all the items in the dictionary using the form \"key, value\" and create a separate list for each business of the separate scores and polarities:"
   ]
  },
  {
   "cell_type": "code",
   "execution_count": 8,
   "metadata": {
    "collapsed": false
   },
   "outputs": [],
   "source": [
    "scores = []\n",
    "polarities = []\n",
    "allMedianScores = []\n",
    "allMedianPolarities = []\n",
    "allMeanScores = []\n",
    "allMeanPolarities = []\n",
    "for business, scoreAndPolarity in businessInfo.items(): # Iterates over all the items in the dictionary using the form \"key, value\". # Changed dict.iteritems to dict.items for python3 \n",
    "  for x in range(len(scoreAndPolarity)): # Creates a separate list for each business of the separate scores and polarities\n",
    "  \tscores.append((scoreAndPolarity[x])[0])\n",
    "  \tpolarities.append((scoreAndPolarity[x])[1])\n",
    "  medianScore=np.median(scores)\n",
    "  medianPolarity=np.median(polarities) \n",
    "  allMedianScores.append(medianScore)\n",
    "  allMedianPolarities.append(medianPolarity)\n",
    "  meanScore=np.mean(scores)\n",
    "  meanPolarity=np.mean(polarities)\n",
    "  allMeanScores.append(meanScore)\n",
    "  allMeanPolarities.append(meanPolarity)"
   ]
  },
  {
   "cell_type": "markdown",
   "metadata": {},
   "source": [
    "Save a plot for the median text sentiment vs median star rating per business:"
   ]
  },
  {
   "cell_type": "code",
   "execution_count": 9,
   "metadata": {
    "collapsed": false
   },
   "outputs": [
    {
     "data": {
      "image/png": "[encoded data removed]",
      "text/plain": [
       "<matplotlib.figure.Figure at 0x1a3253b4e0>"
      ]
     },
     "metadata": {},
     "output_type": "display_data"
    }
   ],
   "source": [
    "x=np.array(allMedianPolarities)\n",
    "y=np.array(allMedianScores)\n",
    "correlation = pearsonr(allMedianPolarities, allMedianScores)\n",
    "m, b = np.polyfit(x, y, 1)\n",
    "fig = plt.figure()\n",
    "ax = fig.add_subplot(111)\n",
    "ax.plot(x, y, 'bo')\n",
    "ax.plot(x, m*x + b, 'r-')\n",
    "ax.set_title(\"All Businesses Median Values\") \n",
    "ax.annotate(\"Slope=\"+str(round(m,4)), xy=(1, 0.1), xycoords='axes fraction', fontsize=16, horizontalalignment='right', verticalalignment='center')\n",
    "ax.annotate(\"Pearson correlation=\"+str(round(correlation[0],4)), xy=(1, 0.05), xycoords='axes fraction', fontsize=16, horizontalalignment='right', verticalalignment='center')\n",
    "ax.set_xlabel('median text sentiment polarity')\n",
    "ax.set_ylabel('median star rating')\n",
    "ax.set_ylim([0,5])\n",
    "ax.set_xlim([-1,1])\n",
    "plt.show()\n",
    "filename = \"allBusinessmedians.png\"\n",
    "fig.savefig(filename)\n",
    "plt.close()"
   ]
  },
  {
   "cell_type": "markdown",
   "metadata": {},
   "source": [
    "There were no businesses in the first 500,000 reviews that had a median star rating below 3 or a median text sentiment below 0. Median text sentiment did not vary much between business, with most written reviews being mildly positive. Perhaps the average will give a better picture of what's going on in these reviews."
   ]
  },
  {
   "cell_type": "markdown",
   "metadata": {},
   "source": [
    "Save a plot for the average text sentiment vs average star rating per business:"
   ]
  },
  {
   "cell_type": "code",
   "execution_count": 10,
   "metadata": {
    "collapsed": false
   },
   "outputs": [
    {
     "data": {
      "image/png": "[encoded data removed]",
      "text/plain": [
       "<matplotlib.figure.Figure at 0x1a32537ef0>"
      ]
     },
     "metadata": {},
     "output_type": "display_data"
    }
   ],
   "source": [
    "x=np.array(allMeanPolarities)\n",
    "y=np.array(allMeanScores)\n",
    "correlation = pearsonr(allMeanPolarities, allMeanScores)\n",
    "m, b = np.polyfit(x, y, 1)\n",
    "fig = plt.figure()\n",
    "ax = fig.add_subplot(111)\n",
    "ax.plot(x, y, 'bo')\n",
    "ax.plot(x, m*x + b, 'r-')\n",
    "ax.set_title(\"All Businesses Mean Values\") \n",
    "ax.annotate(\"Slope=\"+str(round(m,4)), xy=(1, 0.1), xycoords='axes fraction', fontsize=16, horizontalalignment='right', verticalalignment='center')\n",
    "ax.annotate(\"Pearson correlation=\"+str(round(correlation[0],4)), xy=(1, 0.05), xycoords='axes fraction', fontsize=16, horizontalalignment='right', verticalalignment='center')\n",
    "ax.set_xlabel('mean text sentiment polarity')\n",
    "ax.set_ylabel('mean star rating')\n",
    "ax.set_ylim([0,5])\n",
    "ax.set_xlim([-1,1])\n",
    "plt.show()\n",
    "filename = \"allBusinessmeans.png\"\n",
    "fig.savefig(filename)\n",
    "plt.close()"
   ]
  },
  {
   "cell_type": "markdown",
   "metadata": {},
   "source": [
    "If star rating and text sentiment were perfectly and linearly correlated, we should expect to see a slope of 1. A steeper slope shows that star rating increases more rapidly than text sentiment. The high pearson correlation tells us that the positive trend is relatively consistent in the data. In other words, people are more likely to give a high star rating than they are to use extremely positive language in their text review. Again we see that there are no businesses in the first 500,000 reviews of the dataset with a very poor star rating of below 3/5."
   ]
  },
  {
   "cell_type": "markdown",
   "metadata": {},
   "source": [
    "Based on the fact that we see no instances of very poor correlation (really, I was looking for anti-correlation) between text sentiment of reviews and star rating, but we have anecdotes of such cases existing, it seems to me that Yelp may have removed instances like these from the data they provide for the dataset challenge."
   ]
  },
  {
   "cell_type": "markdown",
   "metadata": {},
   "source": [
    "Thanks to Chris Agocs for helping me get up and running on this project, with help collaborating on code for the dictionary. I learned a great deal about the language in the process much faster than I could have on my own."
   ]
  },
  {
   "cell_type": "markdown",
   "metadata": {
    "collapsed": true
   },
   "source": [
    "Future directions:\n",
    "\n",
    "Find different correlations in the data for star review: hours, whether they allow dogs, location, etc.\n",
    "\n",
    "Show that textblob sentiment really is working correctly. I verified this for myself, but I should show it here.\n",
    "\n",
    "Show the average number and distribution of reviews per business.\n",
    "\n",
    "Find the real business names in the separate .json file."
   ]
  }
 ],
 "metadata": {
  "kernelspec": {
   "display_name": "Python 3",
   "language": "python",
   "name": "python3"
  },
  "language_info": {
   "codemirror_mode": {
    "name": "ipython",
    "version": 3
   },
   "file_extension": ".py",
   "mimetype": "text/x-python",
   "name": "python",
   "nbconvert_exporter": "python",
   "pygments_lexer": "ipython3",
   "version": "3.6.0"
  }
 },
 "nbformat": 4,
 "nbformat_minor": 2
}
